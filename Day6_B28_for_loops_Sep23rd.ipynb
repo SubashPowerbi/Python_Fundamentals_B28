{
 "cells": [
  {
   "cell_type": "code",
   "execution_count": null,
   "metadata": {},
   "outputs": [],
   "source": [
    "# Introduction to looping statements....."
   ]
  },
  {
   "cell_type": "code",
   "execution_count": 1,
   "metadata": {},
   "outputs": [
    {
     "name": "stdout",
     "output_type": "stream",
     "text": [
      "['ravi', 'kumar', 'rani', 'sonu', 'james', 'sham', 'hari']\n"
     ]
    }
   ],
   "source": [
    "students = ['ravi','kumar','rani','sonu','james','sham','hari']\n",
    "print(students)"
   ]
  },
  {
   "cell_type": "code",
   "execution_count": 2,
   "metadata": {},
   "outputs": [
    {
     "data": {
      "text/plain": [
       "list"
      ]
     },
     "execution_count": 2,
     "metadata": {},
     "output_type": "execute_result"
    }
   ],
   "source": [
    "type(students)"
   ]
  },
  {
   "cell_type": "code",
   "execution_count": null,
   "metadata": {},
   "outputs": [],
   "source": [
    "Req# I wanr to appreciate all the students who are present in the above list.....?"
   ]
  },
  {
   "cell_type": "code",
   "execution_count": 4,
   "metadata": {},
   "outputs": [
    {
     "name": "stdout",
     "output_type": "stream",
     "text": [
      "keep up the good work Ravi\n"
     ]
    }
   ],
   "source": [
    "print(f\"keep up the good work {students[0].title()}\")  # Individual Approach"
   ]
  },
  {
   "cell_type": "code",
   "execution_count": 5,
   "metadata": {},
   "outputs": [
    {
     "name": "stdout",
     "output_type": "stream",
     "text": [
      "keep up the good work Kumar\n"
     ]
    }
   ],
   "source": [
    "print(f\"keep up the good work {students[1].title()}\")"
   ]
  },
  {
   "cell_type": "code",
   "execution_count": 6,
   "metadata": {},
   "outputs": [
    {
     "name": "stdout",
     "output_type": "stream",
     "text": [
      "keep up the good work Rani\n"
     ]
    }
   ],
   "source": [
    "print(f\"keep up the good work {students[2].title()}\")"
   ]
  },
  {
   "cell_type": "code",
   "execution_count": null,
   "metadata": {},
   "outputs": [],
   "source": [
    "#Enhanced code... \n",
    "Req# To appriciate all the students at a go ..... (single shot code execution)...."
   ]
  },
  {
   "cell_type": "code",
   "execution_count": 8,
   "metadata": {},
   "outputs": [
    {
     "name": "stdout",
     "output_type": "stream",
     "text": [
      " keep up the good work Ravi.\n",
      "\n",
      " keep up the good work Kumar.\n",
      "\n",
      " keep up the good work Rani.\n",
      "\n",
      " keep up the good work Sonu.\n",
      "\n",
      " keep up the good work James.\n",
      "\n",
      " keep up the good work Sham.\n",
      "\n",
      " keep up the good work Hari.\n",
      "\n"
     ]
    }
   ],
   "source": [
    "for student in students:\n",
    "    print(f\" keep up the good work {student.title()}.\\n\")"
   ]
  },
  {
   "cell_type": "code",
   "execution_count": null,
   "metadata": {},
   "outputs": [],
   "source": [
    "# Introduction to for loops:\n",
    "# General syntax of a fr loop.....\n",
    "#syn:\n",
    "for tempvariable in mainvariable\n",
    "    print(tempvariable) #gap in the starting is called as Indentation....\n",
    "    \n",
    "    Eg: student  --> Temp Variable \n",
    "        students --> Main Variable\n",
    "    "
   ]
  },
  {
   "cell_type": "code",
   "execution_count": null,
   "metadata": {},
   "outputs": [],
   "source": [
    "#Evolved Req.....\n",
    "# I wanted to give them a message that \n",
    "#Req: ------>      I am looking for the practice file of today...... "
   ]
  },
  {
   "cell_type": "code",
   "execution_count": 10,
   "metadata": {},
   "outputs": [
    {
     "name": "stdout",
     "output_type": "stream",
     "text": [
      "keep up the god work Ravi\n",
      "send me the practice file of today Ravi.\n",
      "\n",
      "keep up the god work Kumar\n",
      "send me the practice file of today Kumar.\n",
      "\n",
      "keep up the god work Rani\n",
      "send me the practice file of today Rani.\n",
      "\n",
      "keep up the god work Sonu\n",
      "send me the practice file of today Sonu.\n",
      "\n",
      "keep up the god work James\n",
      "send me the practice file of today James.\n",
      "\n",
      "keep up the god work Sham\n",
      "send me the practice file of today Sham.\n",
      "\n",
      "keep up the god work Hari\n",
      "send me the practice file of today Hari.\n",
      "\n"
     ]
    }
   ],
   "source": [
    "for x in students:\n",
    "    print(f\"keep up the god work {x.title()}\")\n",
    "    print(f\"send me the practice file of today {x.title()}.\\n\")"
   ]
  },
  {
   "cell_type": "code",
   "execution_count": 11,
   "metadata": {},
   "outputs": [
    {
     "name": "stdout",
     "output_type": "stream",
     "text": [
      "keep up the god work Ravi\n",
      "send me the practice file of today Ravi.\n",
      "keep up the god work Kumar\n",
      "send me the practice file of today Kumar.\n",
      "keep up the god work Rani\n",
      "send me the practice file of today Rani.\n",
      "keep up the god work Sonu\n",
      "send me the practice file of today Sonu.\n",
      "keep up the god work James\n",
      "send me the practice file of today James.\n",
      "keep up the god work Sham\n",
      "send me the practice file of today Sham.\n",
      "keep up the god work Hari\n",
      "send me the practice file of today Hari.\n"
     ]
    }
   ],
   "source": [
    "for x in students:\n",
    "    print(f\"keep up the god work {x.title()}\")\n",
    "    print(f\"send me the practice file of today {x.title()}.\")"
   ]
  },
  {
   "cell_type": "code",
   "execution_count": 12,
   "metadata": {},
   "outputs": [
    {
     "name": "stdout",
     "output_type": "stream",
     "text": [
      "keep up the god work Ravi\n",
      "send me the practice file of today Ravi.\n",
      "\n",
      "keep up the god work Kumar\n",
      "send me the practice file of today Kumar.\n",
      "\n",
      "keep up the god work Rani\n",
      "send me the practice file of today Rani.\n",
      "\n",
      "keep up the god work Sonu\n",
      "send me the practice file of today Sonu.\n",
      "\n",
      "keep up the god work James\n",
      "send me the practice file of today James.\n",
      "\n",
      "keep up the god work Sham\n",
      "send me the practice file of today Sham.\n",
      "\n",
      "keep up the god work Hari\n",
      "send me the practice file of today Hari.\n",
      "\n"
     ]
    }
   ],
   "source": [
    "for x in students:\n",
    "    print(f\"keep up the god work {x.title()}\")\n",
    "    print(f\"send me the practice file of today {x.title()}.\\n\")"
   ]
  },
  {
   "cell_type": "code",
   "execution_count": null,
   "metadata": {},
   "outputs": [],
   "source": []
  },
  {
   "cell_type": "code",
   "execution_count": null,
   "metadata": {},
   "outputs": [],
   "source": []
  },
  {
   "cell_type": "code",
   "execution_count": null,
   "metadata": {},
   "outputs": [],
   "source": []
  },
  {
   "cell_type": "code",
   "execution_count": null,
   "metadata": {},
   "outputs": [],
   "source": []
  },
  {
   "cell_type": "code",
   "execution_count": null,
   "metadata": {},
   "outputs": [],
   "source": []
  },
  {
   "cell_type": "code",
   "execution_count": null,
   "metadata": {},
   "outputs": [],
   "source": []
  },
  {
   "cell_type": "code",
   "execution_count": null,
   "metadata": {},
   "outputs": [],
   "source": []
  },
  {
   "cell_type": "code",
   "execution_count": null,
   "metadata": {},
   "outputs": [],
   "source": []
  }
 ],
 "metadata": {
  "kernelspec": {
   "display_name": "Python 3",
   "language": "python",
   "name": "python3"
  },
  "language_info": {
   "codemirror_mode": {
    "name": "ipython",
    "version": 3
   },
   "file_extension": ".py",
   "mimetype": "text/x-python",
   "name": "python",
   "nbconvert_exporter": "python",
   "pygments_lexer": "ipython3",
   "version": "3.8.3"
  }
 },
 "nbformat": 4,
 "nbformat_minor": 4
}
