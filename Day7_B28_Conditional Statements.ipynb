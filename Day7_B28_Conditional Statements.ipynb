{
 "cells": [
  {
   "cell_type": "code",
   "execution_count": null,
   "metadata": {},
   "outputs": [],
   "source": [
    "# Introduction to conditional statements\n",
    "if, if else, elif  --> 3 different conditions........"
   ]
  },
  {
   "cell_type": "code",
   "execution_count": null,
   "metadata": {},
   "outputs": [],
   "source": [
    "#Case study.......! Building a voting application....\n",
    "Age criteria ---> 18 years or more than 18 years of age --> to get the voting right......"
   ]
  },
  {
   "cell_type": "code",
   "execution_count": 1,
   "metadata": {},
   "outputs": [
    {
     "name": "stdout",
     "output_type": "stream",
     "text": [
      "you are eligible to vote\n"
     ]
    }
   ],
   "source": [
    "age = 21\n",
    "\n",
    "if age >= 18:\n",
    "    print('you are eligible to vote')\n",
    "else:\n",
    "    print('you are not eligible to vote, try next year')"
   ]
  },
  {
   "cell_type": "code",
   "execution_count": 2,
   "metadata": {},
   "outputs": [
    {
     "name": "stdout",
     "output_type": "stream",
     "text": [
      "you are not eligible to vote, try next year\n"
     ]
    }
   ],
   "source": [
    "age = 16\n",
    "\n",
    "if age >= 18:\n",
    "    print('you are eligible to vote')\n",
    "else:\n",
    "    print('you are not eligible to vote, try next year')"
   ]
  },
  {
   "cell_type": "code",
   "execution_count": null,
   "metadata": {},
   "outputs": [],
   "source": [
    "#case study...... \n",
    "\n",
    "#Baby growth..\n",
    "    Baby --> 1 year  --> crawl --> baby will be able to crawl\n",
    "    Baby --> 2 years --> stand --> baby will be able to stand \n",
    "    Baby --> 3 years --> walk  --> baby will be able to walk\n",
    "    Baby --> 4 years --> run   --> baby will be able to run "
   ]
  },
  {
   "cell_type": "code",
   "execution_count": 3,
   "metadata": {},
   "outputs": [
    {
     "name": "stdout",
     "output_type": "stream",
     "text": [
      "baby will be able to stand\n"
     ]
    }
   ],
   "source": [
    "age =2 \n",
    "if age == 1:    # Comparison opertor ----validating and executing the code block.....!\n",
    "    print('baby will be able to crawl')\n",
    "elif age == 2:\n",
    "    print('baby will be able to stand')\n",
    "elif age == 3:\n",
    "    print('baby will be able to walk')\n",
    "else :\n",
    "    print('baby will be able to run')\n"
   ]
  },
  {
   "cell_type": "code",
   "execution_count": 4,
   "metadata": {},
   "outputs": [
    {
     "name": "stdout",
     "output_type": "stream",
     "text": [
      "baby will be able to crawl\n"
     ]
    }
   ],
   "source": [
    "age =1 \n",
    "if age == 1:\n",
    "    print('baby will be able to crawl')\n",
    "elif age == 2:\n",
    "    print('baby will be able to stand')\n",
    "elif age == 3:\n",
    "    print('baby will be able to walk')\n",
    "else :\n",
    "    print('baby will be able to run')"
   ]
  },
  {
   "cell_type": "code",
   "execution_count": 5,
   "metadata": {},
   "outputs": [
    {
     "name": "stdout",
     "output_type": "stream",
     "text": [
      "baby will be able to walk\n"
     ]
    }
   ],
   "source": [
    "age =3 \n",
    "if age == 1:\n",
    "    print('baby will be able to crawl')\n",
    "elif age == 2:\n",
    "    print('baby will be able to stand')\n",
    "elif age == 3:\n",
    "    print('baby will be able to walk')\n",
    "else :\n",
    "    print('baby will be able to run')"
   ]
  },
  {
   "cell_type": "code",
   "execution_count": 6,
   "metadata": {},
   "outputs": [
    {
     "name": "stdout",
     "output_type": "stream",
     "text": [
      "baby will be able to run\n"
     ]
    }
   ],
   "source": [
    "age =5 \n",
    "if age == 1:\n",
    "    print('baby will be able to crawl')\n",
    "elif age == 2:\n",
    "    print('baby will be able to stand')\n",
    "elif age == 3:\n",
    "    print('baby will be able to walk')\n",
    "else :\n",
    "    print('baby will be able to run')"
   ]
  },
  {
   "cell_type": "code",
   "execution_count": 7,
   "metadata": {},
   "outputs": [
    {
     "name": "stdout",
     "output_type": "stream",
     "text": [
      "baby will be able to run\n"
     ]
    }
   ],
   "source": [
    "age =4 \n",
    "if age == 1:\n",
    "    print('baby will be able to crawl')\n",
    "elif age == 2:\n",
    "    print('baby will be able to stand')\n",
    "elif age == 3:\n",
    "    print('baby will be able to walk')\n",
    "else :\n",
    "    print('baby will be able to run')"
   ]
  },
  {
   "cell_type": "code",
   "execution_count": null,
   "metadata": {},
   "outputs": [],
   "source": []
  },
  {
   "cell_type": "code",
   "execution_count": null,
   "metadata": {},
   "outputs": [],
   "source": []
  },
  {
   "cell_type": "code",
   "execution_count": null,
   "metadata": {},
   "outputs": [],
   "source": []
  },
  {
   "cell_type": "code",
   "execution_count": null,
   "metadata": {},
   "outputs": [],
   "source": []
  },
  {
   "cell_type": "code",
   "execution_count": null,
   "metadata": {},
   "outputs": [],
   "source": []
  },
  {
   "cell_type": "code",
   "execution_count": null,
   "metadata": {},
   "outputs": [],
   "source": []
  },
  {
   "cell_type": "code",
   "execution_count": null,
   "metadata": {},
   "outputs": [],
   "source": []
  },
  {
   "cell_type": "code",
   "execution_count": null,
   "metadata": {},
   "outputs": [],
   "source": []
  },
  {
   "cell_type": "code",
   "execution_count": null,
   "metadata": {},
   "outputs": [],
   "source": []
  }
 ],
 "metadata": {
  "kernelspec": {
   "display_name": "Python 3",
   "language": "python",
   "name": "python3"
  },
  "language_info": {
   "codemirror_mode": {
    "name": "ipython",
    "version": 3
   },
   "file_extension": ".py",
   "mimetype": "text/x-python",
   "name": "python",
   "nbconvert_exporter": "python",
   "pygments_lexer": "ipython3",
   "version": "3.8.3"
  }
 },
 "nbformat": 4,
 "nbformat_minor": 4
}
